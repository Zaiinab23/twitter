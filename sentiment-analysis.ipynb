{
 "cells": [
  {
   "cell_type": "code",
   "execution_count": 1,
   "id": "a3e626bc",
   "metadata": {
    "_cell_guid": "b1076dfc-b9ad-4769-8c92-a6c4dae69d19",
    "_uuid": "8f2839f25d086af736a60e9eeb907d3b93b6e0e5",
    "execution": {
     "iopub.execute_input": "2025-02-06T16:50:33.434174Z",
     "iopub.status.busy": "2025-02-06T16:50:33.433658Z",
     "iopub.status.idle": "2025-02-06T16:50:34.454903Z",
     "shell.execute_reply": "2025-02-06T16:50:34.453490Z"
    },
    "papermill": {
     "duration": 1.031919,
     "end_time": "2025-02-06T16:50:34.457013",
     "exception": false,
     "start_time": "2025-02-06T16:50:33.425094",
     "status": "completed"
    },
    "tags": []
   },
   "outputs": [
    {
     "name": "stdout",
     "output_type": "stream",
     "text": [
      "/kaggle/input/tweets-sentiment-analysis/vocab.py\n",
      "/kaggle/input/tweets-sentiment-analysis/vocab.json\n",
      "/kaggle/input/tweets-sentiment-analysis/train_data.csv\n",
      "/kaggle/input/tweets-sentiment-analysis/test_data.csv\n",
      "/kaggle/input/tweets-sentiment-analysis/Exploring Data.ipynb\n"
     ]
    }
   ],
   "source": [
    "# This Python 3 environment comes with many helpful analytics libraries installed\n",
    "# It is defined by the kaggle/python Docker image: https://github.com/kaggle/docker-python\n",
    "# For example, here's several helpful packages to load\n",
    "\n",
    "import numpy as np # linear algebra\n",
    "import pandas as pd # data processing, CSV file I/O (e.g. pd.read_csv)\n",
    "\n",
    "# Input data files are available in the read-only \"../input/\" directory\n",
    "# For example, running this (by clicking run or pressing Shift+Enter) will list all files under the input directory\n",
    "\n",
    "import os\n",
    "for dirname, _, filenames in os.walk('/kaggle/input'):\n",
    "    for filename in filenames:\n",
    "        print(os.path.join(dirname, filename))\n",
    "\n",
    "# You can write up to 20GB to the current directory (/kaggle/working/) that gets preserved as output when you create a version using \"Save & Run All\" \n",
    "# You can also write temporary files to /kaggle/temp/, but they won't be saved outside of the current session"
   ]
  },
  {
   "cell_type": "code",
   "execution_count": 2,
   "id": "ebc349f1",
   "metadata": {
    "execution": {
     "iopub.execute_input": "2025-02-06T16:50:34.470149Z",
     "iopub.status.busy": "2025-02-06T16:50:34.469587Z",
     "iopub.status.idle": "2025-02-06T16:50:36.968847Z",
     "shell.execute_reply": "2025-02-06T16:50:36.967819Z"
    },
    "papermill": {
     "duration": 2.507449,
     "end_time": "2025-02-06T16:50:36.970792",
     "exception": false,
     "start_time": "2025-02-06T16:50:34.463343",
     "status": "completed"
    },
    "tags": []
   },
   "outputs": [],
   "source": [
    "\n",
    "\n",
    "from nltk.corpus import stopwords\n",
    "from nltk.stem.porter import PorterStemmer\n",
    "import re\n",
    "from sklearn.feature_extraction.text import TfidfVectorizer\n",
    "from sklearn.model_selection import train_test_split\n",
    "from sklearn.linear_model import LogisticRegression\n",
    "from sklearn.metrics import accuracy_score\n",
    "from sklearn.feature_extraction.text import ENGLISH_STOP_WORDS\n",
    "from tqdm import tqdm\n",
    "import multiprocessing as mp\n"
   ]
  },
  {
   "cell_type": "code",
   "execution_count": 3,
   "id": "d2399513",
   "metadata": {
    "execution": {
     "iopub.execute_input": "2025-02-06T16:50:36.983648Z",
     "iopub.status.busy": "2025-02-06T16:50:36.983156Z",
     "iopub.status.idle": "2025-02-06T16:50:40.289668Z",
     "shell.execute_reply": "2025-02-06T16:50:40.288466Z"
    },
    "papermill": {
     "duration": 3.315138,
     "end_time": "2025-02-06T16:50:40.291779",
     "exception": false,
     "start_time": "2025-02-06T16:50:36.976641",
     "status": "completed"
    },
    "tags": []
   },
   "outputs": [
    {
     "data": {
      "text/html": [
       "<div>\n",
       "<style scoped>\n",
       "    .dataframe tbody tr th:only-of-type {\n",
       "        vertical-align: middle;\n",
       "    }\n",
       "\n",
       "    .dataframe tbody tr th {\n",
       "        vertical-align: top;\n",
       "    }\n",
       "\n",
       "    .dataframe thead th {\n",
       "        text-align: right;\n",
       "    }\n",
       "</style>\n",
       "<table border=\"1\" class=\"dataframe\">\n",
       "  <thead>\n",
       "    <tr style=\"text-align: right;\">\n",
       "      <th></th>\n",
       "      <th>sentence</th>\n",
       "      <th>sentiment</th>\n",
       "    </tr>\n",
       "    <tr>\n",
       "      <th>index</th>\n",
       "      <th></th>\n",
       "      <th></th>\n",
       "    </tr>\n",
       "  </thead>\n",
       "  <tbody>\n",
       "    <tr>\n",
       "      <th>0</th>\n",
       "      <td>awww that s a bummer you shoulda got david car...</td>\n",
       "      <td>0</td>\n",
       "    </tr>\n",
       "    <tr>\n",
       "      <th>1</th>\n",
       "      <td>is upset that he can t update his facebook by ...</td>\n",
       "      <td>0</td>\n",
       "    </tr>\n",
       "    <tr>\n",
       "      <th>2</th>\n",
       "      <td>i dived many times for the ball managed to sav...</td>\n",
       "      <td>0</td>\n",
       "    </tr>\n",
       "    <tr>\n",
       "      <th>3</th>\n",
       "      <td>my whole body feels itchy and like its on fire</td>\n",
       "      <td>0</td>\n",
       "    </tr>\n",
       "    <tr>\n",
       "      <th>4</th>\n",
       "      <td>no it s not behaving at all i m mad why am i h...</td>\n",
       "      <td>0</td>\n",
       "    </tr>\n",
       "  </tbody>\n",
       "</table>\n",
       "</div>"
      ],
      "text/plain": [
       "                                                sentence  sentiment\n",
       "index                                                              \n",
       "0      awww that s a bummer you shoulda got david car...          0\n",
       "1      is upset that he can t update his facebook by ...          0\n",
       "2      i dived many times for the ball managed to sav...          0\n",
       "3         my whole body feels itchy and like its on fire          0\n",
       "4      no it s not behaving at all i m mad why am i h...          0"
      ]
     },
     "execution_count": 3,
     "metadata": {},
     "output_type": "execute_result"
    }
   ],
   "source": [
    "path = \"/kaggle/input/tweets-sentiment-analysis/train_data.csv\"\n",
    "#path2= \"/kaggle/input/tweets-sentiment-analysis/test_data.csv\"\n",
    "twitter_data = pd.read_csv(path)\n",
    "#test_data= pd.read_csv(path)\n",
    "twitter_data.index.name = \"index\"\n",
    "twitter_data.head()"
   ]
  },
  {
   "cell_type": "code",
   "execution_count": 4,
   "id": "c8be422c",
   "metadata": {
    "execution": {
     "iopub.execute_input": "2025-02-06T16:50:40.305064Z",
     "iopub.status.busy": "2025-02-06T16:50:40.304582Z",
     "iopub.status.idle": "2025-02-06T16:50:40.310764Z",
     "shell.execute_reply": "2025-02-06T16:50:40.309593Z"
    },
    "papermill": {
     "duration": 0.014806,
     "end_time": "2025-02-06T16:50:40.312585",
     "exception": false,
     "start_time": "2025-02-06T16:50:40.297779",
     "status": "completed"
    },
    "tags": []
   },
   "outputs": [
    {
     "name": "stdout",
     "output_type": "stream",
     "text": [
      "['please', 'made', 'alone', 'herself', 'yours', 'elsewhere', 'call', 'onto', 'amongst', 'hundred']\n"
     ]
    }
   ],
   "source": [
    "stopwordsList = set(ENGLISH_STOP_WORDS)\n",
    "print(list(stopwordsList)[:10])\n",
    "clean_pattern = re.compile(r'[^a-zA-Z]')#^~ means removing everything that is not a letter.\n"
   ]
  },
  {
   "cell_type": "code",
   "execution_count": 5,
   "id": "89fb6834",
   "metadata": {
    "execution": {
     "iopub.execute_input": "2025-02-06T16:50:40.325974Z",
     "iopub.status.busy": "2025-02-06T16:50:40.325574Z",
     "iopub.status.idle": "2025-02-06T16:50:40.331539Z",
     "shell.execute_reply": "2025-02-06T16:50:40.330573Z"
    },
    "papermill": {
     "duration": 0.014759,
     "end_time": "2025-02-06T16:50:40.333177",
     "exception": false,
     "start_time": "2025-02-06T16:50:40.318418",
     "status": "completed"
    },
    "tags": []
   },
   "outputs": [
    {
     "data": {
      "text/plain": [
       "(1523975, 2)"
      ]
     },
     "execution_count": 5,
     "metadata": {},
     "output_type": "execute_result"
    }
   ],
   "source": [
    "twitter_data.shape\n"
   ]
  },
  {
   "cell_type": "code",
   "execution_count": 6,
   "id": "fe1d3774",
   "metadata": {
    "execution": {
     "iopub.execute_input": "2025-02-06T16:50:40.346388Z",
     "iopub.status.busy": "2025-02-06T16:50:40.346010Z",
     "iopub.status.idle": "2025-02-06T16:50:40.445990Z",
     "shell.execute_reply": "2025-02-06T16:50:40.444959Z"
    },
    "papermill": {
     "duration": 0.108785,
     "end_time": "2025-02-06T16:50:40.447901",
     "exception": false,
     "start_time": "2025-02-06T16:50:40.339116",
     "status": "completed"
    },
    "tags": []
   },
   "outputs": [
    {
     "data": {
      "text/plain": [
       "sentence     0\n",
       "sentiment    0\n",
       "dtype: int64"
      ]
     },
     "execution_count": 6,
     "metadata": {},
     "output_type": "execute_result"
    }
   ],
   "source": [
    "twitter_data.isnull().sum()"
   ]
  },
  {
   "cell_type": "code",
   "execution_count": 7,
   "id": "a254ab15",
   "metadata": {
    "execution": {
     "iopub.execute_input": "2025-02-06T16:50:40.461324Z",
     "iopub.status.busy": "2025-02-06T16:50:40.460944Z",
     "iopub.status.idle": "2025-02-06T16:50:40.481947Z",
     "shell.execute_reply": "2025-02-06T16:50:40.481014Z"
    },
    "papermill": {
     "duration": 0.029528,
     "end_time": "2025-02-06T16:50:40.483534",
     "exception": false,
     "start_time": "2025-02-06T16:50:40.454006",
     "status": "completed"
    },
    "tags": []
   },
   "outputs": [
    {
     "data": {
      "text/plain": [
       "sentiment\n",
       "0    767059\n",
       "1    756916\n",
       "Name: count, dtype: int64"
      ]
     },
     "execution_count": 7,
     "metadata": {},
     "output_type": "execute_result"
    }
   ],
   "source": [
    "twitter_data['sentiment'].value_counts()"
   ]
  },
  {
   "cell_type": "code",
   "execution_count": 8,
   "id": "e3cd467e",
   "metadata": {
    "execution": {
     "iopub.execute_input": "2025-02-06T16:50:40.496859Z",
     "iopub.status.busy": "2025-02-06T16:50:40.496527Z",
     "iopub.status.idle": "2025-02-06T16:50:40.500684Z",
     "shell.execute_reply": "2025-02-06T16:50:40.499567Z"
    },
    "papermill": {
     "duration": 0.012638,
     "end_time": "2025-02-06T16:50:40.502368",
     "exception": false,
     "start_time": "2025-02-06T16:50:40.489730",
     "status": "completed"
    },
    "tags": []
   },
   "outputs": [],
   "source": [
    "portStemmer= PorterStemmer() #stemming is used to reduce a word to its root word."
   ]
  },
  {
   "cell_type": "code",
   "execution_count": 9,
   "id": "967c489c",
   "metadata": {
    "execution": {
     "iopub.execute_input": "2025-02-06T16:50:40.516708Z",
     "iopub.status.busy": "2025-02-06T16:50:40.516373Z",
     "iopub.status.idle": "2025-02-06T16:50:40.521485Z",
     "shell.execute_reply": "2025-02-06T16:50:40.520414Z"
    },
    "papermill": {
     "duration": 0.0147,
     "end_time": "2025-02-06T16:50:40.523239",
     "exception": false,
     "start_time": "2025-02-06T16:50:40.508539",
     "status": "completed"
    },
    "tags": []
   },
   "outputs": [],
   "source": [
    "def stemming(content):\n",
    "    stemmedContent = clean_pattern.sub(' ', content) \n",
    "    stemmedContent = stemmedContent.lower()\n",
    "    stemmedContent = stemmedContent.split() #splitting the tweet into lit of words\n",
    "    stemmedContent = [portStemmer.stem(word) for word in stemmedContent if not word in stopwordsList]\n",
    "    stemmedContent = ' '.join(stemmedContent)\n",
    "\n",
    "    return stemmedContent\n"
   ]
  },
  {
   "cell_type": "code",
   "execution_count": 10,
   "id": "5eca933c",
   "metadata": {
    "execution": {
     "iopub.execute_input": "2025-02-06T16:50:40.536916Z",
     "iopub.status.busy": "2025-02-06T16:50:40.536542Z",
     "iopub.status.idle": "2025-02-06T16:50:40.541428Z",
     "shell.execute_reply": "2025-02-06T16:50:40.540355Z"
    },
    "papermill": {
     "duration": 0.01347,
     "end_time": "2025-02-06T16:50:40.542979",
     "exception": false,
     "start_time": "2025-02-06T16:50:40.529509",
     "status": "completed"
    },
    "tags": []
   },
   "outputs": [],
   "source": [
    "def parallel_stemming(data, num_workers=mp.cpu_count()):\n",
    "    with mp.Pool(num_workers) as pool:\n",
    "        results = list(tqdm(pool.imap(stemming, data), total=len(data)))  # Show progress bar\n",
    "    return results"
   ]
  },
  {
   "cell_type": "code",
   "execution_count": 11,
   "id": "c7dade26",
   "metadata": {
    "execution": {
     "iopub.execute_input": "2025-02-06T16:50:40.556218Z",
     "iopub.status.busy": "2025-02-06T16:50:40.555773Z",
     "iopub.status.idle": "2025-02-06T16:53:44.750330Z",
     "shell.execute_reply": "2025-02-06T16:53:44.749115Z"
    },
    "papermill": {
     "duration": 184.203298,
     "end_time": "2025-02-06T16:53:44.752351",
     "exception": false,
     "start_time": "2025-02-06T16:50:40.549053",
     "status": "completed"
    },
    "tags": []
   },
   "outputs": [
    {
     "name": "stderr",
     "output_type": "stream",
     "text": [
      "100%|██████████| 1523975/1523975 [03:03<00:00, 8285.68it/s]\n"
     ]
    }
   ],
   "source": [
    "twitter_data['stemmedContent'] = parallel_stemming(twitter_data['sentence'])\n"
   ]
  },
  {
   "cell_type": "code",
   "execution_count": 12,
   "id": "275c944c",
   "metadata": {
    "execution": {
     "iopub.execute_input": "2025-02-06T16:53:44.927936Z",
     "iopub.status.busy": "2025-02-06T16:53:44.927538Z",
     "iopub.status.idle": "2025-02-06T16:53:44.938501Z",
     "shell.execute_reply": "2025-02-06T16:53:44.937409Z"
    },
    "papermill": {
     "duration": 0.100942,
     "end_time": "2025-02-06T16:53:44.940429",
     "exception": false,
     "start_time": "2025-02-06T16:53:44.839487",
     "status": "completed"
    },
    "tags": []
   },
   "outputs": [
    {
     "data": {
      "text/html": [
       "<div>\n",
       "<style scoped>\n",
       "    .dataframe tbody tr th:only-of-type {\n",
       "        vertical-align: middle;\n",
       "    }\n",
       "\n",
       "    .dataframe tbody tr th {\n",
       "        vertical-align: top;\n",
       "    }\n",
       "\n",
       "    .dataframe thead th {\n",
       "        text-align: right;\n",
       "    }\n",
       "</style>\n",
       "<table border=\"1\" class=\"dataframe\">\n",
       "  <thead>\n",
       "    <tr style=\"text-align: right;\">\n",
       "      <th></th>\n",
       "      <th>sentence</th>\n",
       "      <th>sentiment</th>\n",
       "      <th>stemmedContent</th>\n",
       "    </tr>\n",
       "    <tr>\n",
       "      <th>index</th>\n",
       "      <th></th>\n",
       "      <th></th>\n",
       "      <th></th>\n",
       "    </tr>\n",
       "  </thead>\n",
       "  <tbody>\n",
       "    <tr>\n",
       "      <th>0</th>\n",
       "      <td>awww that s a bummer you shoulda got david car...</td>\n",
       "      <td>0</td>\n",
       "      <td>awww s bummer shoulda got david carr day d</td>\n",
       "    </tr>\n",
       "    <tr>\n",
       "      <th>1</th>\n",
       "      <td>is upset that he can t update his facebook by ...</td>\n",
       "      <td>0</td>\n",
       "      <td>upset t updat facebook text result school toda...</td>\n",
       "    </tr>\n",
       "    <tr>\n",
       "      <th>2</th>\n",
       "      <td>i dived many times for the ball managed to sav...</td>\n",
       "      <td>0</td>\n",
       "      <td>dive time ball manag save rest bound</td>\n",
       "    </tr>\n",
       "    <tr>\n",
       "      <th>3</th>\n",
       "      <td>my whole body feels itchy and like its on fire</td>\n",
       "      <td>0</td>\n",
       "      <td>bodi feel itchi like</td>\n",
       "    </tr>\n",
       "    <tr>\n",
       "      <th>4</th>\n",
       "      <td>no it s not behaving at all i m mad why am i h...</td>\n",
       "      <td>0</td>\n",
       "      <td>s behav m mad t</td>\n",
       "    </tr>\n",
       "  </tbody>\n",
       "</table>\n",
       "</div>"
      ],
      "text/plain": [
       "                                                sentence  sentiment  \\\n",
       "index                                                                 \n",
       "0      awww that s a bummer you shoulda got david car...          0   \n",
       "1      is upset that he can t update his facebook by ...          0   \n",
       "2      i dived many times for the ball managed to sav...          0   \n",
       "3         my whole body feels itchy and like its on fire          0   \n",
       "4      no it s not behaving at all i m mad why am i h...          0   \n",
       "\n",
       "                                          stemmedContent  \n",
       "index                                                     \n",
       "0             awww s bummer shoulda got david carr day d  \n",
       "1      upset t updat facebook text result school toda...  \n",
       "2                   dive time ball manag save rest bound  \n",
       "3                                   bodi feel itchi like  \n",
       "4                                        s behav m mad t  "
      ]
     },
     "execution_count": 12,
     "metadata": {},
     "output_type": "execute_result"
    }
   ],
   "source": [
    "twitter_data.head()"
   ]
  },
  {
   "cell_type": "code",
   "execution_count": 13,
   "id": "a40bd825",
   "metadata": {
    "execution": {
     "iopub.execute_input": "2025-02-06T16:53:45.176559Z",
     "iopub.status.busy": "2025-02-06T16:53:45.176218Z",
     "iopub.status.idle": "2025-02-06T16:53:45.181008Z",
     "shell.execute_reply": "2025-02-06T16:53:45.180011Z"
    },
    "papermill": {
     "duration": 0.152805,
     "end_time": "2025-02-06T16:53:45.182577",
     "exception": false,
     "start_time": "2025-02-06T16:53:45.029772",
     "status": "completed"
    },
    "tags": []
   },
   "outputs": [],
   "source": [
    "X= twitter_data['stemmedContent'].values\n",
    "y= twitter_data['sentiment'].values"
   ]
  },
  {
   "cell_type": "code",
   "execution_count": 14,
   "id": "e512ce39",
   "metadata": {
    "execution": {
     "iopub.execute_input": "2025-02-06T16:53:45.360040Z",
     "iopub.status.busy": "2025-02-06T16:53:45.359616Z",
     "iopub.status.idle": "2025-02-06T16:53:45.365498Z",
     "shell.execute_reply": "2025-02-06T16:53:45.364165Z"
    },
    "papermill": {
     "duration": 0.097038,
     "end_time": "2025-02-06T16:53:45.367318",
     "exception": false,
     "start_time": "2025-02-06T16:53:45.270280",
     "status": "completed"
    },
    "tags": []
   },
   "outputs": [
    {
     "name": "stdout",
     "output_type": "stream",
     "text": [
      "['awww s bummer shoulda got david carr day d'\n",
      " 'upset t updat facebook text result school today blah'\n",
      " 'dive time ball manag save rest bound' ... 'readi mojo makeov ask detail'\n",
      " 'happi th birthday boo alll time tupac amaru shakur'\n",
      " 'happi charitytuesday']\n"
     ]
    }
   ],
   "source": [
    "print(X)"
   ]
  },
  {
   "cell_type": "code",
   "execution_count": 15,
   "id": "73077923",
   "metadata": {
    "execution": {
     "iopub.execute_input": "2025-02-06T16:53:45.548353Z",
     "iopub.status.busy": "2025-02-06T16:53:45.547998Z",
     "iopub.status.idle": "2025-02-06T16:53:45.553598Z",
     "shell.execute_reply": "2025-02-06T16:53:45.552185Z"
    },
    "papermill": {
     "duration": 0.098186,
     "end_time": "2025-02-06T16:53:45.555462",
     "exception": false,
     "start_time": "2025-02-06T16:53:45.457276",
     "status": "completed"
    },
    "tags": []
   },
   "outputs": [
    {
     "name": "stdout",
     "output_type": "stream",
     "text": [
      "[0 0 0 ... 1 1 1]\n"
     ]
    }
   ],
   "source": [
    "print(y)"
   ]
  },
  {
   "cell_type": "code",
   "execution_count": 16,
   "id": "a84f4ab3",
   "metadata": {
    "execution": {
     "iopub.execute_input": "2025-02-06T16:53:45.732412Z",
     "iopub.status.busy": "2025-02-06T16:53:45.732029Z",
     "iopub.status.idle": "2025-02-06T16:53:46.628523Z",
     "shell.execute_reply": "2025-02-06T16:53:46.627274Z"
    },
    "papermill": {
     "duration": 0.987605,
     "end_time": "2025-02-06T16:53:46.630604",
     "exception": false,
     "start_time": "2025-02-06T16:53:45.642999",
     "status": "completed"
    },
    "tags": []
   },
   "outputs": [],
   "source": [
    "x_train, x_test, y_train, y_test = train_test_split(X,y, test_size=0.2, stratify=y,random_state=2)"
   ]
  },
  {
   "cell_type": "code",
   "execution_count": 17,
   "id": "07707a1c",
   "metadata": {
    "execution": {
     "iopub.execute_input": "2025-02-06T16:53:46.808625Z",
     "iopub.status.busy": "2025-02-06T16:53:46.808160Z",
     "iopub.status.idle": "2025-02-06T16:53:46.813849Z",
     "shell.execute_reply": "2025-02-06T16:53:46.812760Z"
    },
    "papermill": {
     "duration": 0.097255,
     "end_time": "2025-02-06T16:53:46.815724",
     "exception": false,
     "start_time": "2025-02-06T16:53:46.718469",
     "status": "completed"
    },
    "tags": []
   },
   "outputs": [
    {
     "name": "stdout",
     "output_type": "stream",
     "text": [
      "(1523975,) (1219180,) (304795,)\n"
     ]
    }
   ],
   "source": [
    "print(X.shape,x_train.shape,x_test.shape)"
   ]
  },
  {
   "cell_type": "code",
   "execution_count": 18,
   "id": "bd751cbf",
   "metadata": {
    "execution": {
     "iopub.execute_input": "2025-02-06T16:53:46.997395Z",
     "iopub.status.busy": "2025-02-06T16:53:46.997023Z",
     "iopub.status.idle": "2025-02-06T16:54:01.115529Z",
     "shell.execute_reply": "2025-02-06T16:54:01.114370Z"
    },
    "papermill": {
     "duration": 14.211748,
     "end_time": "2025-02-06T16:54:01.117517",
     "exception": false,
     "start_time": "2025-02-06T16:53:46.905769",
     "status": "completed"
    },
    "tags": []
   },
   "outputs": [],
   "source": [
    "vectorizer = TfidfVectorizer()\n",
    "x_train = vectorizer.fit_transform(x_train)\n",
    "x_test = vectorizer.transform(x_test)\n"
   ]
  },
  {
   "cell_type": "code",
   "execution_count": 19,
   "id": "7567fb0a",
   "metadata": {
    "execution": {
     "iopub.execute_input": "2025-02-06T16:54:01.296595Z",
     "iopub.status.busy": "2025-02-06T16:54:01.296246Z",
     "iopub.status.idle": "2025-02-06T16:54:01.414482Z",
     "shell.execute_reply": "2025-02-06T16:54:01.413047Z"
    },
    "papermill": {
     "duration": 0.210709,
     "end_time": "2025-02-06T16:54:01.416603",
     "exception": false,
     "start_time": "2025-02-06T16:54:01.205894",
     "status": "completed"
    },
    "tags": []
   },
   "outputs": [
    {
     "name": "stdout",
     "output_type": "stream",
     "text": [
      "  (0, 161753)\t0.7085850087516308\n",
      "  (0, 34362)\t0.7056254568625281\n",
      "  (1, 12312)\t0.22162047955797365\n",
      "  (1, 163547)\t0.26680301425437103\n",
      "  (1, 119100)\t0.2988612109670705\n",
      "  (1, 43781)\t0.32135146429446165\n",
      "  (1, 102758)\t0.25691653153146793\n",
      "  (1, 161335)\t0.4132289864242559\n",
      "  (1, 160711)\t0.2478527251069974\n",
      "  (1, 44232)\t0.23931456263812517\n",
      "  (1, 94608)\t0.17281005850654177\n",
      "  (1, 44213)\t0.48358398662783436\n",
      "  (1, 1704)\t0.2606380757438443\n",
      "  (2, 89694)\t0.36262431684480045\n",
      "  (2, 159539)\t0.5236161267890233\n",
      "  (2, 10913)\t0.6981407332325676\n",
      "  (2, 94608)\t0.32700041773795413\n",
      "  (3, 85031)\t0.3049088403020526\n",
      "  (3, 22174)\t0.25534296241239424\n",
      "  (3, 122320)\t0.4768961521671171\n",
      "  (3, 183150)\t0.2755800797982844\n",
      "  (3, 98554)\t0.29058581546394746\n",
      "  (3, 72868)\t0.49098324253449427\n",
      "  (3, 133534)\t0.2151246428619407\n",
      "  (3, 179011)\t0.40825601986214266\n",
      "  :\t:\n",
      "  (1219176, 30480)\t0.673801903653383\n",
      "  (1219176, 30486)\t0.2906556365825624\n",
      "  (1219176, 58119)\t0.17120621434081468\n",
      "  (1219176, 169853)\t0.20623720834307624\n",
      "  (1219176, 117954)\t0.41551366113280197\n",
      "  (1219176, 52594)\t0.20878794933026532\n",
      "  (1219176, 184654)\t0.17815985168659249\n",
      "  (1219176, 65602)\t0.11425688862830972\n",
      "  (1219176, 68568)\t0.13233838186434474\n",
      "  (1219176, 176272)\t0.13670428529817305\n",
      "  (1219176, 166985)\t0.1295994541846653\n",
      "  (1219176, 184736)\t0.10593049166325184\n",
      "  (1219176, 96483)\t0.12591367813086032\n",
      "  (1219176, 97115)\t0.10745692164903783\n",
      "  (1219176, 94608)\t0.1063020448569831\n",
      "  (1219176, 1704)\t0.16032840135929394\n",
      "  (1219177, 84584)\t0.7030680933679812\n",
      "  (1219177, 134707)\t0.44630480241002796\n",
      "  (1219177, 179262)\t0.5536309957306017\n",
      "  (1219178, 123216)\t0.850185327428421\n",
      "  (1219178, 164427)\t0.5264835315804556\n",
      "  (1219179, 128253)\t0.6834648471589264\n",
      "  (1219179, 11280)\t0.4816173123117658\n",
      "  (1219179, 128371)\t0.3860661683605613\n",
      "  (1219179, 159539)\t0.3897094825982697\n",
      "  (0, 133534)\t1.0\n",
      "  (1, 143635)\t0.5254906856114778\n",
      "  (1, 97115)\t0.22398517278762964\n",
      "  (1, 68622)\t0.4481887825692536\n",
      "  (1, 39643)\t0.39475968304440945\n",
      "  (1, 33003)\t0.2633519476288178\n",
      "  (1, 3845)\t0.4976218857815149\n",
      "  (2, 174923)\t0.1992473480007913\n",
      "  (2, 154715)\t0.35917467707624173\n",
      "  (2, 126068)\t0.30316764685413317\n",
      "  (2, 117665)\t0.33692943639273726\n",
      "  (2, 96103)\t0.14681375637858435\n",
      "  (2, 85660)\t0.12003108381376422\n",
      "  (2, 75092)\t0.3262759485465709\n",
      "  (2, 74801)\t0.32612869523348986\n",
      "  (2, 74293)\t0.3001578323136417\n",
      "  (2, 66899)\t0.2879511293946526\n",
      "  (2, 64460)\t0.2075333375614163\n",
      "  (2, 37437)\t0.3102170800083039\n",
      "  (2, 18851)\t0.25449757898559533\n",
      "  (3, 64396)\t0.34636024862301046\n",
      "  (3, 24742)\t0.8323537450109423\n",
      "  (3, 14931)\t0.43269136961587956\n",
      "  (4, 92400)\t0.7134301469893615\n",
      "  (4, 67409)\t0.7007263555531059\n",
      "  :\t:\n",
      "  (304792, 187527)\t0.7087402071121859\n",
      "  (304792, 185348)\t0.46989050648679326\n",
      "  (304792, 179262)\t0.40603636357833006\n",
      "  (304792, 99760)\t0.3347009145315369\n",
      "  (304793, 179318)\t0.17736083552351012\n",
      "  (304793, 170011)\t0.259709654122438\n",
      "  (304793, 135998)\t0.3654160870451846\n",
      "  (304793, 134197)\t0.4080207662758654\n",
      "  (304793, 124364)\t0.21795988498993826\n",
      "  (304793, 107441)\t0.5410911651867213\n",
      "  (304793, 85660)\t0.14409665803001703\n",
      "  (304793, 70229)\t0.21524626946062356\n",
      "  (304793, 69655)\t0.24561127712039063\n",
      "  (304793, 68568)\t0.20140398219624012\n",
      "  (304793, 44104)\t0.18242245805981017\n",
      "  (304793, 1704)\t0.24400161191345823\n",
      "  (304794, 187245)\t0.2624566395356228\n",
      "  (304794, 178505)\t0.46745319075429087\n",
      "  (304794, 176272)\t0.23219746129517538\n",
      "  (304794, 155050)\t0.24079920835872715\n",
      "  (304794, 137696)\t0.22954469328171376\n",
      "  (304794, 137107)\t0.3595657384853567\n",
      "  (304794, 137008)\t0.34867765845160603\n",
      "  (304794, 92888)\t0.337734119570244\n",
      "  (304794, 48008)\t0.42788476895969074\n"
     ]
    }
   ],
   "source": [
    "print(x_train)\n",
    "print(x_test)"
   ]
  },
  {
   "cell_type": "code",
   "execution_count": 20,
   "id": "0ba5ca87",
   "metadata": {
    "execution": {
     "iopub.execute_input": "2025-02-06T16:54:01.596781Z",
     "iopub.status.busy": "2025-02-06T16:54:01.596431Z",
     "iopub.status.idle": "2025-02-06T17:31:51.546355Z",
     "shell.execute_reply": "2025-02-06T17:31:51.544523Z"
    },
    "papermill": {
     "duration": 2270.130992,
     "end_time": "2025-02-06T17:31:51.637536",
     "exception": false,
     "start_time": "2025-02-06T16:54:01.506544",
     "status": "completed"
    },
    "tags": []
   },
   "outputs": [
    {
     "name": "stderr",
     "output_type": "stream",
     "text": [
      "Training Progress: 100%|██████████ 100/100 [37:49<00:00]\n"
     ]
    }
   ],
   "source": [
    "model = LogisticRegression(max_iter=1000, solver='saga', n_jobs=-1)\n",
    "\n",
    "with tqdm(total=100, desc=\"Training Progress\", bar_format=\"{l_bar}{bar} {n_fmt}/{total_fmt} [{elapsed}<{remaining}]\") as pbar:\n",
    "    for i in range(100):  # Simulating incremental progress\n",
    "        model.fit(x_train, y_train)  # Train the model\n",
    "        pbar.update(1)"
   ]
  },
  {
   "cell_type": "code",
   "execution_count": 21,
   "id": "a572c914",
   "metadata": {
    "execution": {
     "iopub.execute_input": "2025-02-06T17:31:51.826579Z",
     "iopub.status.busy": "2025-02-06T17:31:51.826195Z",
     "iopub.status.idle": "2025-02-06T17:31:52.021377Z",
     "shell.execute_reply": "2025-02-06T17:31:52.020196Z"
    },
    "papermill": {
     "duration": 0.29283,
     "end_time": "2025-02-06T17:31:52.023359",
     "exception": false,
     "start_time": "2025-02-06T17:31:51.730529",
     "status": "completed"
    },
    "tags": []
   },
   "outputs": [
    {
     "name": "stdout",
     "output_type": "stream",
     "text": [
      "Training accuracy:  0.7879771649797405\n"
     ]
    }
   ],
   "source": [
    "y_pred= model.predict(x_train)\n",
    "training_accuracy = accuracy_score(y_train,y_pred)\n",
    "print (\"Training accuracy: \",training_accuracy)"
   ]
  },
  {
   "cell_type": "code",
   "execution_count": 22,
   "id": "6b716fcd",
   "metadata": {
    "execution": {
     "iopub.execute_input": "2025-02-06T17:31:52.211101Z",
     "iopub.status.busy": "2025-02-06T17:31:52.210694Z",
     "iopub.status.idle": "2025-02-06T17:31:52.272343Z",
     "shell.execute_reply": "2025-02-06T17:31:52.271162Z"
    },
    "papermill": {
     "duration": 0.157267,
     "end_time": "2025-02-06T17:31:52.274091",
     "exception": false,
     "start_time": "2025-02-06T17:31:52.116824",
     "status": "completed"
    },
    "tags": []
   },
   "outputs": [
    {
     "name": "stdout",
     "output_type": "stream",
     "text": [
      "Test Data accuracy:  0.7700946537836907\n"
     ]
    }
   ],
   "source": [
    "y_pred= model.predict(x_test)\n",
    "test_accuracy = accuracy_score(y_test,y_pred)\n",
    "print (\"Test Data accuracy: \",test_accuracy)"
   ]
  },
  {
   "cell_type": "code",
   "execution_count": 23,
   "id": "e089fac0",
   "metadata": {
    "execution": {
     "iopub.execute_input": "2025-02-06T17:31:52.465764Z",
     "iopub.status.busy": "2025-02-06T17:31:52.465420Z",
     "iopub.status.idle": "2025-02-06T17:31:52.470467Z",
     "shell.execute_reply": "2025-02-06T17:31:52.469247Z"
    },
    "papermill": {
     "duration": 0.103869,
     "end_time": "2025-02-06T17:31:52.472504",
     "exception": false,
     "start_time": "2025-02-06T17:31:52.368635",
     "status": "completed"
    },
    "tags": []
   },
   "outputs": [],
   "source": [
    "import pickle"
   ]
  },
  {
   "cell_type": "code",
   "execution_count": 24,
   "id": "c1a64746",
   "metadata": {
    "execution": {
     "iopub.execute_input": "2025-02-06T17:31:52.661982Z",
     "iopub.status.busy": "2025-02-06T17:31:52.661561Z",
     "iopub.status.idle": "2025-02-06T17:31:52.668659Z",
     "shell.execute_reply": "2025-02-06T17:31:52.667557Z"
    },
    "papermill": {
     "duration": 0.104166,
     "end_time": "2025-02-06T17:31:52.670393",
     "exception": false,
     "start_time": "2025-02-06T17:31:52.566227",
     "status": "completed"
    },
    "tags": []
   },
   "outputs": [],
   "source": [
    "filename= \"tsa_trained_model.sav\"\n",
    "pickle.dump(model, open(filename,'wb'))"
   ]
  },
  {
   "cell_type": "code",
   "execution_count": 25,
   "id": "f434e8d2",
   "metadata": {
    "execution": {
     "iopub.execute_input": "2025-02-06T17:31:52.869781Z",
     "iopub.status.busy": "2025-02-06T17:31:52.869441Z",
     "iopub.status.idle": "2025-02-06T17:31:52.874423Z",
     "shell.execute_reply": "2025-02-06T17:31:52.873259Z"
    },
    "papermill": {
     "duration": 0.106216,
     "end_time": "2025-02-06T17:31:52.876315",
     "exception": false,
     "start_time": "2025-02-06T17:31:52.770099",
     "status": "completed"
    },
    "tags": []
   },
   "outputs": [],
   "source": [
    "#load model\n",
    "loadedmodel= pickle.load(open('/kaggle/working/tsa_trained_model.sav','rb'))"
   ]
  },
  {
   "cell_type": "code",
   "execution_count": 26,
   "id": "91ed2f2b",
   "metadata": {
    "execution": {
     "iopub.execute_input": "2025-02-06T17:31:53.066675Z",
     "iopub.status.busy": "2025-02-06T17:31:53.066316Z",
     "iopub.status.idle": "2025-02-06T17:31:53.075063Z",
     "shell.execute_reply": "2025-02-06T17:31:53.073866Z"
    },
    "papermill": {
     "duration": 0.105744,
     "end_time": "2025-02-06T17:31:53.076823",
     "exception": false,
     "start_time": "2025-02-06T17:31:52.971079",
     "status": "completed"
    },
    "tags": []
   },
   "outputs": [
    {
     "name": "stdout",
     "output_type": "stream",
     "text": [
      "0\n",
      "Negative Tweet\n"
     ]
    }
   ],
   "source": [
    "X_new=x_test[131]\n",
    "print(y_test[131])\n",
    "\n",
    "pred= model.predict(X_new)\n",
    "\n",
    "if (pred[0]==0):\n",
    "    print('Negative Tweet')\n",
    "else:\n",
    "    print('Positive Tweet')"
   ]
  }
 ],
 "metadata": {
  "kaggle": {
   "accelerator": "none",
   "dataSources": [
    {
     "datasetId": 2039949,
     "sourceId": 5789672,
     "sourceType": "datasetVersion"
    }
   ],
   "dockerImageVersionId": 30839,
   "isGpuEnabled": false,
   "isInternetEnabled": false,
   "language": "python",
   "sourceType": "notebook"
  },
  "kernelspec": {
   "display_name": "Python 3",
   "language": "python",
   "name": "python3"
  },
  "language_info": {
   "codemirror_mode": {
    "name": "ipython",
    "version": 3
   },
   "file_extension": ".py",
   "mimetype": "text/x-python",
   "name": "python",
   "nbconvert_exporter": "python",
   "pygments_lexer": "ipython3",
   "version": "3.10.12"
  },
  "papermill": {
   "default_parameters": {},
   "duration": 2484.08605,
   "end_time": "2025-02-06T17:31:54.598603",
   "environment_variables": {},
   "exception": null,
   "input_path": "__notebook__.ipynb",
   "output_path": "__notebook__.ipynb",
   "parameters": {},
   "start_time": "2025-02-06T16:50:30.512553",
   "version": "2.6.0"
  }
 },
 "nbformat": 4,
 "nbformat_minor": 5
}
