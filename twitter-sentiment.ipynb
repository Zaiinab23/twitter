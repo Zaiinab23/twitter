{
 "cells": [
  {
   "cell_type": "code",
   "execution_count": 1,
   "id": "ae3d7c60",
   "metadata": {
    "_cell_guid": "b1076dfc-b9ad-4769-8c92-a6c4dae69d19",
    "_uuid": "8f2839f25d086af736a60e9eeb907d3b93b6e0e5",
    "execution": {
     "iopub.execute_input": "2025-02-03T10:48:18.109734Z",
     "iopub.status.busy": "2025-02-03T10:48:18.109228Z",
     "iopub.status.idle": "2025-02-03T10:48:19.281683Z",
     "shell.execute_reply": "2025-02-03T10:48:19.280407Z"
    },
    "papermill": {
     "duration": 1.180077,
     "end_time": "2025-02-03T10:48:19.283524",
     "exception": false,
     "start_time": "2025-02-03T10:48:18.103447",
     "status": "completed"
    },
    "tags": []
   },
   "outputs": [
    {
     "name": "stdout",
     "output_type": "stream",
     "text": [
      "/kaggle/input/twitter-and-reddit-sentimental-analysis-dataset/Twitter_Data.csv\n",
      "/kaggle/input/twitter-and-reddit-sentimental-analysis-dataset/Reddit_Data.csv\n"
     ]
    }
   ],
   "source": [
    "# This Python 3 environment comes with many helpful analytics libraries installed\n",
    "# It is defined by the kaggle/python Docker image: https://github.com/kaggle/docker-python\n",
    "# For example, here's several helpful packages to load\n",
    "\n",
    "import numpy as np # linear algebra\n",
    "import pandas as pd # data processing, CSV file I/O (e.g. pd.read_csv)\n",
    "\n",
    "# Input data files are available in the read-only \"../input/\" directory\n",
    "# For example, running this (by clicking run or pressing Shift+Enter) will list all files under the input directory\n",
    "\n",
    "import os\n",
    "for dirname, _, filenames in os.walk('/kaggle/input'):\n",
    "    for filename in filenames:\n",
    "        print(os.path.join(dirname, filename))\n",
    "\n",
    "# You can write up to 20GB to the current directory (/kaggle/working/) that gets preserved as output when you create a version using \"Save & Run All\" \n",
    "# You can also write temporary files to /kaggle/temp/, but they won't be saved outside of the current session"
   ]
  },
  {
   "cell_type": "code",
   "execution_count": 2,
   "id": "01d14981",
   "metadata": {
    "execution": {
     "iopub.execute_input": "2025-02-03T10:48:19.292372Z",
     "iopub.status.busy": "2025-02-03T10:48:19.291873Z",
     "iopub.status.idle": "2025-02-03T10:48:20.091694Z",
     "shell.execute_reply": "2025-02-03T10:48:20.090360Z"
    },
    "papermill": {
     "duration": 0.806235,
     "end_time": "2025-02-03T10:48:20.093645",
     "exception": false,
     "start_time": "2025-02-03T10:48:19.287410",
     "status": "completed"
    },
    "tags": []
   },
   "outputs": [
    {
     "data": {
      "text/html": [
       "<div>\n",
       "<style scoped>\n",
       "    .dataframe tbody tr th:only-of-type {\n",
       "        vertical-align: middle;\n",
       "    }\n",
       "\n",
       "    .dataframe tbody tr th {\n",
       "        vertical-align: top;\n",
       "    }\n",
       "\n",
       "    .dataframe thead th {\n",
       "        text-align: right;\n",
       "    }\n",
       "</style>\n",
       "<table border=\"1\" class=\"dataframe\">\n",
       "  <thead>\n",
       "    <tr style=\"text-align: right;\">\n",
       "      <th></th>\n",
       "      <th>clean_text</th>\n",
       "      <th>category</th>\n",
       "    </tr>\n",
       "    <tr>\n",
       "      <th>index</th>\n",
       "      <th></th>\n",
       "      <th></th>\n",
       "    </tr>\n",
       "  </thead>\n",
       "  <tbody>\n",
       "    <tr>\n",
       "      <th>0</th>\n",
       "      <td>when modi promised “minimum government maximum...</td>\n",
       "      <td>-1.0</td>\n",
       "    </tr>\n",
       "    <tr>\n",
       "      <th>1</th>\n",
       "      <td>talk all the nonsense and continue all the dra...</td>\n",
       "      <td>0.0</td>\n",
       "    </tr>\n",
       "    <tr>\n",
       "      <th>2</th>\n",
       "      <td>what did just say vote for modi  welcome bjp t...</td>\n",
       "      <td>1.0</td>\n",
       "    </tr>\n",
       "    <tr>\n",
       "      <th>3</th>\n",
       "      <td>asking his supporters prefix chowkidar their n...</td>\n",
       "      <td>1.0</td>\n",
       "    </tr>\n",
       "    <tr>\n",
       "      <th>4</th>\n",
       "      <td>answer who among these the most powerful world...</td>\n",
       "      <td>1.0</td>\n",
       "    </tr>\n",
       "  </tbody>\n",
       "</table>\n",
       "</div>"
      ],
      "text/plain": [
       "                                              clean_text  category\n",
       "index                                                             \n",
       "0      when modi promised “minimum government maximum...      -1.0\n",
       "1      talk all the nonsense and continue all the dra...       0.0\n",
       "2      what did just say vote for modi  welcome bjp t...       1.0\n",
       "3      asking his supporters prefix chowkidar their n...       1.0\n",
       "4      answer who among these the most powerful world...       1.0"
      ]
     },
     "execution_count": 2,
     "metadata": {},
     "output_type": "execute_result"
    }
   ],
   "source": [
    "#training set\n",
    "path='../input/twitter-and-reddit-sentimental-analysis-dataset/Twitter_Data.csv'\n",
    "df=pd.read_csv(path)\n",
    "df.index.name = \"index\"\n",
    "df.head()\n"
   ]
  },
  {
   "cell_type": "code",
   "execution_count": 3,
   "id": "86437f92",
   "metadata": {
    "execution": {
     "iopub.execute_input": "2025-02-03T10:48:20.103067Z",
     "iopub.status.busy": "2025-02-03T10:48:20.102693Z",
     "iopub.status.idle": "2025-02-03T10:48:22.867018Z",
     "shell.execute_reply": "2025-02-03T10:48:22.865605Z"
    },
    "papermill": {
     "duration": 2.770945,
     "end_time": "2025-02-03T10:48:22.868868",
     "exception": false,
     "start_time": "2025-02-03T10:48:20.097923",
     "status": "completed"
    },
    "tags": []
   },
   "outputs": [
    {
     "name": "stdout",
     "output_type": "stream",
     "text": [
      "impressive godrej tata complimenting our hoping gets second term \n"
     ]
    }
   ],
   "source": [
    "import nltk\n",
    "example=df['clean_text'][40]\n",
    "print(example)"
   ]
  },
  {
   "cell_type": "code",
   "execution_count": 4,
   "id": "0e60cb47",
   "metadata": {
    "execution": {
     "iopub.execute_input": "2025-02-03T10:48:22.879187Z",
     "iopub.status.busy": "2025-02-03T10:48:22.878653Z",
     "iopub.status.idle": "2025-02-03T10:48:22.898737Z",
     "shell.execute_reply": "2025-02-03T10:48:22.897603Z"
    },
    "papermill": {
     "duration": 0.027473,
     "end_time": "2025-02-03T10:48:22.900651",
     "exception": false,
     "start_time": "2025-02-03T10:48:22.873178",
     "status": "completed"
    },
    "tags": []
   },
   "outputs": [],
   "source": [
    "tokens=nltk.word_tokenize(example)"
   ]
  },
  {
   "cell_type": "code",
   "execution_count": 5,
   "id": "cbdae1ac",
   "metadata": {
    "execution": {
     "iopub.execute_input": "2025-02-03T10:48:22.910478Z",
     "iopub.status.busy": "2025-02-03T10:48:22.910111Z",
     "iopub.status.idle": "2025-02-03T10:48:23.090295Z",
     "shell.execute_reply": "2025-02-03T10:48:23.088830Z"
    },
    "papermill": {
     "duration": 0.188153,
     "end_time": "2025-02-03T10:48:23.093045",
     "exception": false,
     "start_time": "2025-02-03T10:48:22.904892",
     "status": "completed"
    },
    "tags": []
   },
   "outputs": [],
   "source": [
    "tagged=nltk.pos_tag(tokens)\n"
   ]
  },
  {
   "cell_type": "code",
   "execution_count": 6,
   "id": "c9a0eae4",
   "metadata": {
    "execution": {
     "iopub.execute_input": "2025-02-03T10:48:23.109515Z",
     "iopub.status.busy": "2025-02-03T10:48:23.108960Z",
     "iopub.status.idle": "2025-02-03T10:48:23.278743Z",
     "shell.execute_reply": "2025-02-03T10:48:23.277614Z"
    },
    "papermill": {
     "duration": 0.179839,
     "end_time": "2025-02-03T10:48:23.280707",
     "exception": false,
     "start_time": "2025-02-03T10:48:23.100868",
     "status": "completed"
    },
    "tags": []
   },
   "outputs": [
    {
     "data": {
      "text/plain": [
       "<bound method Tree.pprint of Tree('S', [('impressive', 'JJ'), ('godrej', 'NN'), ('tata', 'NN'), ('complimenting', 'VBG'), ('our', 'PRP$'), ('hoping', 'VBG'), ('gets', 'VBZ'), ('second', 'JJ'), ('term', 'NN')])>"
      ]
     },
     "execution_count": 6,
     "metadata": {},
     "output_type": "execute_result"
    }
   ],
   "source": [
    "entities=nltk.chunk.ne_chunk(tagged)\n",
    "entities.pprint"
   ]
  },
  {
   "cell_type": "code",
   "execution_count": 7,
   "id": "5986716d",
   "metadata": {
    "execution": {
     "iopub.execute_input": "2025-02-03T10:48:23.290405Z",
     "iopub.status.busy": "2025-02-03T10:48:23.289910Z",
     "iopub.status.idle": "2025-02-03T10:48:23.340737Z",
     "shell.execute_reply": "2025-02-03T10:48:23.339620Z"
    },
    "papermill": {
     "duration": 0.058407,
     "end_time": "2025-02-03T10:48:23.343092",
     "exception": false,
     "start_time": "2025-02-03T10:48:23.284685",
     "status": "completed"
    },
    "tags": []
   },
   "outputs": [
    {
     "name": "stderr",
     "output_type": "stream",
     "text": [
      "/usr/local/lib/python3.10/dist-packages/nltk/twitter/__init__.py:20: UserWarning: The twython library has not been installed. Some functionality from the twitter package will not be available.\n",
      "  warnings.warn(\"The twython library has not been installed. \"\n"
     ]
    }
   ],
   "source": [
    "#VADER\n",
    "from nltk.sentiment import SentimentIntensityAnalyzer\n",
    "sia=SentimentIntensityAnalyzer()"
   ]
  },
  {
   "cell_type": "code",
   "execution_count": 8,
   "id": "77385753",
   "metadata": {
    "execution": {
     "iopub.execute_input": "2025-02-03T10:48:23.354045Z",
     "iopub.status.busy": "2025-02-03T10:48:23.353671Z",
     "iopub.status.idle": "2025-02-03T10:48:23.360399Z",
     "shell.execute_reply": "2025-02-03T10:48:23.359179Z"
    },
    "papermill": {
     "duration": 0.014723,
     "end_time": "2025-02-03T10:48:23.362561",
     "exception": false,
     "start_time": "2025-02-03T10:48:23.347838",
     "status": "completed"
    },
    "tags": []
   },
   "outputs": [
    {
     "data": {
      "text/plain": [
       "{'neg': 0.0, 'neu': 0.39, 'pos': 0.61, 'compound': 0.8555}"
      ]
     },
     "execution_count": 8,
     "metadata": {},
     "output_type": "execute_result"
    }
   ],
   "source": [
    "sia.polarity_scores(example)"
   ]
  },
  {
   "cell_type": "code",
   "execution_count": 9,
   "id": "cafafeda",
   "metadata": {
    "execution": {
     "iopub.execute_input": "2025-02-03T10:48:23.373053Z",
     "iopub.status.busy": "2025-02-03T10:48:23.372623Z",
     "iopub.status.idle": "2025-02-03T10:49:21.951121Z",
     "shell.execute_reply": "2025-02-03T10:49:21.949894Z"
    },
    "papermill": {
     "duration": 58.586169,
     "end_time": "2025-02-03T10:49:21.953207",
     "exception": false,
     "start_time": "2025-02-03T10:48:23.367038",
     "status": "completed"
    },
    "tags": []
   },
   "outputs": [],
   "source": [
    "df['clean_text'] = df['clean_text'].astype(str)\n",
    "results = {}\n",
    "for i, row in df.iterrows():  # Iterate through rows\n",
    "    tweet = row['clean_text']  # Use row['column_name'] instead of df[column][i]\n",
    "    results[i] = sia.polarity_scores(tweet)  # Compute sentiment score\n",
    "\n",
    "\n",
    "    "
   ]
  },
  {
   "cell_type": "code",
   "execution_count": 10,
   "id": "97182490",
   "metadata": {
    "execution": {
     "iopub.execute_input": "2025-02-03T10:49:21.963084Z",
     "iopub.status.busy": "2025-02-03T10:49:21.962735Z",
     "iopub.status.idle": "2025-02-03T10:49:25.394581Z",
     "shell.execute_reply": "2025-02-03T10:49:25.393585Z"
    },
    "papermill": {
     "duration": 3.438797,
     "end_time": "2025-02-03T10:49:25.396524",
     "exception": false,
     "start_time": "2025-02-03T10:49:21.957727",
     "status": "completed"
    },
    "tags": []
   },
   "outputs": [],
   "source": [
    "vaders= pd.DataFrame(results).T\n",
    "vaders.index.name = \"index\"\n",
    "vaders.head()\n",
    "\n",
    "vaders = vaders.merge(df, how='left', left_index=True, right_index=True)\n",
    "\n"
   ]
  },
  {
   "cell_type": "code",
   "execution_count": 11,
   "id": "49641ccd",
   "metadata": {
    "execution": {
     "iopub.execute_input": "2025-02-03T10:49:25.406059Z",
     "iopub.status.busy": "2025-02-03T10:49:25.405623Z",
     "iopub.status.idle": "2025-02-03T10:49:25.422637Z",
     "shell.execute_reply": "2025-02-03T10:49:25.421469Z"
    },
    "papermill": {
     "duration": 0.023869,
     "end_time": "2025-02-03T10:49:25.424615",
     "exception": false,
     "start_time": "2025-02-03T10:49:25.400746",
     "status": "completed"
    },
    "tags": []
   },
   "outputs": [],
   "source": [
    "\n",
    "vaders=vaders.rename(columns={'clean_text':'Tweet'})"
   ]
  },
  {
   "cell_type": "code",
   "execution_count": 12,
   "id": "1bc5319d",
   "metadata": {
    "execution": {
     "iopub.execute_input": "2025-02-03T10:49:25.434253Z",
     "iopub.status.busy": "2025-02-03T10:49:25.433877Z",
     "iopub.status.idle": "2025-02-03T10:49:25.452110Z",
     "shell.execute_reply": "2025-02-03T10:49:25.450922Z"
    },
    "papermill": {
     "duration": 0.025101,
     "end_time": "2025-02-03T10:49:25.453998",
     "exception": false,
     "start_time": "2025-02-03T10:49:25.428897",
     "status": "completed"
    },
    "tags": []
   },
   "outputs": [
    {
     "data": {
      "text/html": [
       "<div>\n",
       "<style scoped>\n",
       "    .dataframe tbody tr th:only-of-type {\n",
       "        vertical-align: middle;\n",
       "    }\n",
       "\n",
       "    .dataframe tbody tr th {\n",
       "        vertical-align: top;\n",
       "    }\n",
       "\n",
       "    .dataframe thead th {\n",
       "        text-align: right;\n",
       "    }\n",
       "</style>\n",
       "<table border=\"1\" class=\"dataframe\">\n",
       "  <thead>\n",
       "    <tr style=\"text-align: right;\">\n",
       "      <th></th>\n",
       "      <th>neg</th>\n",
       "      <th>neu</th>\n",
       "      <th>pos</th>\n",
       "      <th>compound</th>\n",
       "      <th>Tweet</th>\n",
       "      <th>category</th>\n",
       "    </tr>\n",
       "    <tr>\n",
       "      <th>index</th>\n",
       "      <th></th>\n",
       "      <th></th>\n",
       "      <th></th>\n",
       "      <th></th>\n",
       "      <th></th>\n",
       "      <th></th>\n",
       "    </tr>\n",
       "  </thead>\n",
       "  <tbody>\n",
       "    <tr>\n",
       "      <th>0</th>\n",
       "      <td>0.065</td>\n",
       "      <td>0.781</td>\n",
       "      <td>0.154</td>\n",
       "      <td>0.5267</td>\n",
       "      <td>when modi promised “minimum government maximum...</td>\n",
       "      <td>-1.0</td>\n",
       "    </tr>\n",
       "    <tr>\n",
       "      <th>1</th>\n",
       "      <td>0.184</td>\n",
       "      <td>0.816</td>\n",
       "      <td>0.000</td>\n",
       "      <td>-0.4019</td>\n",
       "      <td>talk all the nonsense and continue all the dra...</td>\n",
       "      <td>0.0</td>\n",
       "    </tr>\n",
       "    <tr>\n",
       "      <th>2</th>\n",
       "      <td>0.000</td>\n",
       "      <td>0.772</td>\n",
       "      <td>0.228</td>\n",
       "      <td>0.7096</td>\n",
       "      <td>what did just say vote for modi  welcome bjp t...</td>\n",
       "      <td>1.0</td>\n",
       "    </tr>\n",
       "    <tr>\n",
       "      <th>3</th>\n",
       "      <td>0.187</td>\n",
       "      <td>0.655</td>\n",
       "      <td>0.158</td>\n",
       "      <td>-0.0713</td>\n",
       "      <td>asking his supporters prefix chowkidar their n...</td>\n",
       "      <td>1.0</td>\n",
       "    </tr>\n",
       "    <tr>\n",
       "      <th>4</th>\n",
       "      <td>0.000</td>\n",
       "      <td>0.808</td>\n",
       "      <td>0.192</td>\n",
       "      <td>0.4754</td>\n",
       "      <td>answer who among these the most powerful world...</td>\n",
       "      <td>1.0</td>\n",
       "    </tr>\n",
       "    <tr>\n",
       "      <th>...</th>\n",
       "      <td>...</td>\n",
       "      <td>...</td>\n",
       "      <td>...</td>\n",
       "      <td>...</td>\n",
       "      <td>...</td>\n",
       "      <td>...</td>\n",
       "    </tr>\n",
       "    <tr>\n",
       "      <th>162975</th>\n",
       "      <td>0.081</td>\n",
       "      <td>0.919</td>\n",
       "      <td>0.000</td>\n",
       "      <td>-0.1280</td>\n",
       "      <td>why these 456 crores paid neerav modi not reco...</td>\n",
       "      <td>-1.0</td>\n",
       "    </tr>\n",
       "    <tr>\n",
       "      <th>162976</th>\n",
       "      <td>0.398</td>\n",
       "      <td>0.491</td>\n",
       "      <td>0.111</td>\n",
       "      <td>-0.9571</td>\n",
       "      <td>dear rss terrorist payal gawar what about modi...</td>\n",
       "      <td>-1.0</td>\n",
       "    </tr>\n",
       "    <tr>\n",
       "      <th>162977</th>\n",
       "      <td>0.000</td>\n",
       "      <td>1.000</td>\n",
       "      <td>0.000</td>\n",
       "      <td>0.0000</td>\n",
       "      <td>did you cover her interaction forum where she ...</td>\n",
       "      <td>0.0</td>\n",
       "    </tr>\n",
       "    <tr>\n",
       "      <th>162978</th>\n",
       "      <td>0.000</td>\n",
       "      <td>0.889</td>\n",
       "      <td>0.111</td>\n",
       "      <td>0.1280</td>\n",
       "      <td>there big project came into india modi dream p...</td>\n",
       "      <td>0.0</td>\n",
       "    </tr>\n",
       "    <tr>\n",
       "      <th>162979</th>\n",
       "      <td>0.159</td>\n",
       "      <td>0.703</td>\n",
       "      <td>0.138</td>\n",
       "      <td>-0.2230</td>\n",
       "      <td>have you ever listen about like gurukul where ...</td>\n",
       "      <td>1.0</td>\n",
       "    </tr>\n",
       "  </tbody>\n",
       "</table>\n",
       "<p>162980 rows × 6 columns</p>\n",
       "</div>"
      ],
      "text/plain": [
       "          neg    neu    pos  compound  \\\n",
       "index                                   \n",
       "0       0.065  0.781  0.154    0.5267   \n",
       "1       0.184  0.816  0.000   -0.4019   \n",
       "2       0.000  0.772  0.228    0.7096   \n",
       "3       0.187  0.655  0.158   -0.0713   \n",
       "4       0.000  0.808  0.192    0.4754   \n",
       "...       ...    ...    ...       ...   \n",
       "162975  0.081  0.919  0.000   -0.1280   \n",
       "162976  0.398  0.491  0.111   -0.9571   \n",
       "162977  0.000  1.000  0.000    0.0000   \n",
       "162978  0.000  0.889  0.111    0.1280   \n",
       "162979  0.159  0.703  0.138   -0.2230   \n",
       "\n",
       "                                                    Tweet  category  \n",
       "index                                                                \n",
       "0       when modi promised “minimum government maximum...      -1.0  \n",
       "1       talk all the nonsense and continue all the dra...       0.0  \n",
       "2       what did just say vote for modi  welcome bjp t...       1.0  \n",
       "3       asking his supporters prefix chowkidar their n...       1.0  \n",
       "4       answer who among these the most powerful world...       1.0  \n",
       "...                                                   ...       ...  \n",
       "162975  why these 456 crores paid neerav modi not reco...      -1.0  \n",
       "162976  dear rss terrorist payal gawar what about modi...      -1.0  \n",
       "162977  did you cover her interaction forum where she ...       0.0  \n",
       "162978  there big project came into india modi dream p...       0.0  \n",
       "162979  have you ever listen about like gurukul where ...       1.0  \n",
       "\n",
       "[162980 rows x 6 columns]"
      ]
     },
     "execution_count": 12,
     "metadata": {},
     "output_type": "execute_result"
    }
   ],
   "source": [
    "vaders\n"
   ]
  },
  {
   "cell_type": "code",
   "execution_count": null,
   "id": "9c963efa",
   "metadata": {
    "papermill": {
     "duration": 0.00397,
     "end_time": "2025-02-03T10:49:25.462447",
     "exception": false,
     "start_time": "2025-02-03T10:49:25.458477",
     "status": "completed"
    },
    "tags": []
   },
   "outputs": [],
   "source": []
  }
 ],
 "metadata": {
  "kaggle": {
   "accelerator": "none",
   "dataSources": [
    {
     "datasetId": 429085,
     "sourceId": 815876,
     "sourceType": "datasetVersion"
    }
   ],
   "dockerImageVersionId": 30839,
   "isGpuEnabled": false,
   "isInternetEnabled": false,
   "language": "python",
   "sourceType": "notebook"
  },
  "kernelspec": {
   "display_name": "Python 3",
   "language": "python",
   "name": "python3"
  },
  "language_info": {
   "codemirror_mode": {
    "name": "ipython",
    "version": 3
   },
   "file_extension": ".py",
   "mimetype": "text/x-python",
   "name": "python",
   "nbconvert_exporter": "python",
   "pygments_lexer": "ipython3",
   "version": "3.10.12"
  },
  "papermill": {
   "default_parameters": {},
   "duration": 71.320437,
   "end_time": "2025-02-03T10:49:26.388949",
   "environment_variables": {},
   "exception": null,
   "input_path": "__notebook__.ipynb",
   "output_path": "__notebook__.ipynb",
   "parameters": {},
   "start_time": "2025-02-03T10:48:15.068512",
   "version": "2.6.0"
  }
 },
 "nbformat": 4,
 "nbformat_minor": 5
}
